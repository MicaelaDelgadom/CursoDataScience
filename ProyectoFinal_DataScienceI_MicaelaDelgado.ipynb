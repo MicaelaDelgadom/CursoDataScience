{
  "nbformat": 4,
  "nbformat_minor": 0,
  "metadata": {
    "colab": {
      "provenance": [],
      "authorship_tag": "ABX9TyMXzGRYD6OB+x3+nsh3wRqB",
      "include_colab_link": true
    },
    "kernelspec": {
      "name": "python3",
      "display_name": "Python 3"
    },
    "language_info": {
      "name": "python"
    }
  },
  "cells": [
    {
      "cell_type": "markdown",
      "metadata": {
        "id": "view-in-github",
        "colab_type": "text"
      },
      "source": [
        "<a href=\"https://colab.research.google.com/github/MicaelaDelgadom/CursoDataScience/blob/Data-I/ProyectoFinal_DataScienceI_MicaelaDelgado.ipynb\" target=\"_parent\"><img src=\"https://colab.research.google.com/assets/colab-badge.svg\" alt=\"Open In Colab\"/></a>"
      ]
    },
    {
      "cell_type": "code",
      "execution_count": 3,
      "metadata": {
        "id": "w_ktc1zydCg-"
      },
      "outputs": [],
      "source": [
        "import pandas as pd"
      ]
    },
    {
      "cell_type": "markdown",
      "source": [
        "Carga de datos\n",
        "\n",
        "---\n",
        "\n"
      ],
      "metadata": {
        "id": "tdNrilkZdG2U"
      }
    },
    {
      "cell_type": "code",
      "source": [
        "csv_data = \"https://raw.githubusercontent.com/MicaelaDelgadom/CursoDataScience/refs/heads/Data-I/social_media_vs_productivity.csv\"\n",
        "\n",
        "print(\"Archivo 'social_media_vs_productivity.csv' creado.\")"
      ],
      "metadata": {
        "colab": {
          "base_uri": "https://localhost:8080/"
        },
        "id": "v0zXXveMdYZx",
        "outputId": "99eab881-1c44-4196-dd15-e3dba9791bf9"
      },
      "execution_count": 2,
      "outputs": [
        {
          "output_type": "stream",
          "name": "stdout",
          "text": [
            "Archivo 'social_media_vs_productivity.csv' creado.\n"
          ]
        }
      ]
    },
    {
      "cell_type": "code",
      "source": [
        "#Lectura de datos desde el archivo CSV\n",
        "df_csv=pd.read_csv(csv_data)\n",
        "#visualización del archivo"
      ],
      "metadata": {
        "id": "4r5UDwkneP5Z"
      },
      "execution_count": 5,
      "outputs": []
    }
  ]
}